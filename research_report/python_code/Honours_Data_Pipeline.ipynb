{
 "cells": [
  {
   "cell_type": "code",
   "execution_count": null,
   "metadata": {
    "collapsed": false
   },
   "outputs": [],
   "source": [
    "%matplotlib inline\n",
    "from matplotlib import pyplot as plt\n",
    "import matplotlib as mpl\n",
    "import math\n",
    "import numpy as np\n",
    "import networkx as nx\n",
    "import random as rn\n",
    "import scipy\n",
    "import igraph\n",
    "from matplotlib import colors\n",
    "import scipy.io as sio"
   ]
  },
  {
   "cell_type": "markdown",
   "metadata": {},
   "source": [
    "# Data Pipeline for MEG/EEG Functional Brain Networks"
   ]
  },
  {
   "cell_type": "markdown",
   "metadata": {},
   "source": [
    "The first component of the data pipeline is to read the file into Python from Matlab. The MEG/EEG.fif file is arranged in Matlab is such a way that it saves the data as a large multidimensional array. The data is then saved in Matlab as a .mat file which can then be called into Python in the following manner:"
   ]
  },
  {
   "cell_type": "markdown",
   "metadata": {},
   "source": [
    "### 1. Read in Data from Matlab and plot single/multi-channel time series"
   ]
  },
  {
   "cell_type": "code",
   "execution_count": 102,
   "metadata": {
    "collapsed": false
   },
   "outputs": [],
   "source": [
    "# MEG_DICT = sio.loadmat('ans.mat') # MEG dictionary saved in Matlab - in this case it is closed eye resting state.\n",
    "# MEG_DATA = MEG_DICT.items() # Accesses the dictionary elements\n",
    "# single_channel = []\n",
    "# multi_channel = []\n",
    "\n",
    "MEG_DICTex1 = sio.loadmat('ans_ex1.mat') # MEG dictionary saved in Matlab - in this case it is closed eye resting state.\n",
    "MEG_DATAex1 = MEG_DICTex1.items() # Accesses the dictionary elements\n",
    "single_channelex1 = []\n",
    "multi_channelex1 = []\n",
    "\n",
    "MEG_DICTex3 = sio.loadmat('ans_ex3.mat') # MEG dictionary saved in Matlab - in this case it is closed eye resting state.\n",
    "MEG_DATAex3 = MEG_DICTex3.items() # Accesses the dictionary elements\n",
    "single_channelex3 = []\n",
    "multi_channelex3 = []\n",
    "\n",
    "# The data is read in as a large dictionary of lists. It can be accessed using the appropriate indexes\n",
    "# Individual channels (sensor - time series) or data points can be accessed with the below indexing calls\n",
    "# [header][row list][row][entry in row] - must be as shown [1][1][X][Y] \n",
    "# 1 is the dictionary key with values that contain all the data.\n",
    "# 1 is the list of data channels in rows - X is the chosen row and Y is the data point in that row.\n",
    "\n",
    "# access single channel and all data Y in time series X\n",
    "# single_channel.extend(MEG_DATA[1][1][0][range(0,1000)])\n",
    "\n",
    "# # Access multiple channels and select data points in loop\n",
    "# for i in range(0,10):\n",
    "#     multi_channel.append(MEG_DATA[1][1][i][range(1,50)])\n",
    "\n",
    "# access single channel and all data Y in time series X\n",
    "single_channelex1.extend(MEG_DATAex1[1][1][0][range(0,100)])\n",
    "\n",
    "# Access multiple channels and select data points in loop\n",
    "for i in range(0,10):\n",
    "    multi_channelex1.append(MEG_DATAex1[1][1][i][range(0,20)])\n",
    "    \n",
    "    \n",
    "# access single channel and all data Y in time series X\n",
    "single_channelex3.extend(MEG_DATAex3[1][1][0][range(0,100)])\n",
    "\n",
    "# Access multiple channels and select data points in loop\n",
    "for i in range(0,10):\n",
    "    multi_channelex3.append(MEG_DATAex3[1][1][i][range(0,20)])\n",
    "    \n",
    "    \n",
    "# Example plots of the time series\n",
    "# Single channel plot\n",
    "# plt.plot(single_channelex1)\n",
    "# plt.show()\n",
    "\n",
    "# Multi-channel plot\n",
    "# K = len(multi_channel)\n",
    "# for j in range(0,K):\n",
    "#     plt.plot(multi_channel[j])\n",
    "# plt.show()\n",
    "\n",
    "# J = len(multi_channelex1)\n",
    "# for j in range(0,J):\n",
    "#     plt.plot(multi_channelex1[j])\n",
    "# plt.show()\n",
    "\n",
    "# H = len(multi_channelex3)\n",
    "# for j in range(0,H):\n",
    "#     plt.plot(multi_channelex3[j])\n",
    "\n",
    "# print multi_channel[0][0]\n",
    "# print multi_channelex[0][0]\n",
    "\n",
    "# plt.plot(single_channel)\n",
    "# plt.show()\n",
    "# plt.plot(single_channelex)\n",
    "\n",
    "# print multi_channelex1"
   ]
  },
  {
   "cell_type": "markdown",
   "metadata": {},
   "source": [
    "### 2. Channel Analysis of MEG Data"
   ]
  },
  {
   "cell_type": "code",
   "execution_count": 104,
   "metadata": {
    "collapsed": false
   },
   "outputs": [
    {
     "name": "stdout",
     "output_type": "stream",
     "text": [
      "[[ 7.54169887  5.58845979  4.41548175  7.46421915]\n",
      " [ 5.58845979  6.02105042  4.41725804  6.52798064]\n",
      " [ 4.41548175  4.41725804  4.11417717  5.41196943]\n",
      " [ 7.46421915  6.52798064  5.41196943  9.24446935]]\n",
      "\n",
      "[[ 7.54169887  5.58845979  4.41548175  7.46421915]\n",
      " [ 5.58845979  6.02105042  4.41725804  6.52798064]\n",
      " [ 4.41548175  4.41725804  4.11417717  5.41196943]\n",
      " [ 7.46421915  6.52798064  5.41196943  9.24446935]]\n",
      "\n",
      "[[ 0.69822843 -0.1945979   0.08878552 -0.47832959]\n",
      " [-0.1945979   1.01922713 -0.63238886 -0.19238578]\n",
      " [ 0.08878552 -0.63238886  1.45115525 -0.47467302]\n",
      " [-0.47832959 -0.19238578 -0.47467302  0.90812821]]\n"
     ]
    }
   ],
   "source": [
    "scaled = [[] for x in range(len(multi_channelex1))]\n",
    "for i in range(len(multi_channelex1)):\n",
    "    for j in range(0,20):\n",
    "        scaled[i].append(abs(multi_channelex1[i][j]*10**13))\n",
    "# print scaled[0]\n",
    "# print scaled[1]    \n",
    "tester = [scaled[0], scaled[1], scaled[2], scaled[3]] \n",
    "# print tester\n",
    "#print tester\n",
    "#print\n",
    "cov = np.cov(tester)\n",
    "cov[0][1]\n",
    "print cov\n",
    "print\n",
    "#A = np.matrix([[cov[0][0],cov[0][1]],[cov[1][0],cov[1][1]]])\n",
    "A = np.matrix(cov)\n",
    "print A # matrix in numpy form\n",
    "print\n",
    "print A.I # Inverse matrix calculator\n",
    "# multi_channelex1[0]\n",
    "# multi_channelex1[1]\n",
    "# plt.plot(scaled)\n",
    "# plt.show()"
   ]
  },
  {
   "cell_type": "markdown",
   "metadata": {},
   "source": [
    "### 3. Time series segmentation for functional connectivity (defining the edges)\n",
    "Here we segment each time series into optimal discreet lengths ready for correlation and inverse covariance estimates"
   ]
  },
  {
   "cell_type": "code",
   "execution_count": 17,
   "metadata": {
    "collapsed": false
   },
   "outputs": [
    {
     "name": "stdout",
     "output_type": "stream",
     "text": [
      "[[ 1.          0.9279832   0.89008813  0.86671627  0.7584915   0.69942906\n",
      "   0.64614302  0.64303423  0.89727924  0.73716668]\n",
      " [ 0.9279832   1.          0.88134119  0.83005242  0.86774961  0.71070566\n",
      "   0.70142522  0.76025978  0.95486063  0.80423178]\n",
      " [ 0.89008813  0.88134119  1.          0.93144036  0.90325111  0.71130134\n",
      "   0.79554702  0.85704827  0.85220733  0.79626738]\n",
      " [ 0.86671627  0.83005242  0.93144036  1.          0.82155969  0.53082455\n",
      "   0.64485557  0.80698898  0.78592741  0.64787452]\n",
      " [ 0.7584915   0.86774961  0.90325111  0.82155969  1.          0.71792448\n",
      "   0.83572199  0.93735558  0.840434    0.81414715]\n",
      " [ 0.69942906  0.71070566  0.71130134  0.53082455  0.71792448  1.\n",
      "   0.8685682   0.56581053  0.79896538  0.92945048]\n",
      " [ 0.64614302  0.70142522  0.79554702  0.64485557  0.83572199  0.8685682\n",
      "   1.          0.82787729  0.73020195  0.81359396]\n",
      " [ 0.64303423  0.76025978  0.85704827  0.80698898  0.93735558  0.56581053\n",
      "   0.82787729  1.          0.69899138  0.65245088]\n",
      " [ 0.89727924  0.95486063  0.85220733  0.78592741  0.840434    0.79896538\n",
      "   0.73020195  0.69899138  1.          0.89079414]\n",
      " [ 0.73716668  0.80423178  0.79626738  0.64787452  0.81414715  0.92945048\n",
      "   0.81359396  0.65245088  0.89079414  1.        ]]\n",
      "\n",
      "[[ 1.          0.89898603  0.90296051  0.96993189  0.67358559  0.40967846\n",
      "   0.39143222  0.58530944  0.72046509  0.44893082]\n",
      " [ 0.89898603  1.          0.89085486  0.87977704  0.70986885  0.54486396\n",
      "   0.47515121  0.58407198  0.80967315  0.64998438]\n",
      " [ 0.90296051  0.89085486  1.          0.87997833  0.73225125  0.5780238\n",
      "   0.55950749  0.6944266   0.7342345   0.60199015]\n",
      " [ 0.96993189  0.87977704  0.87997833  1.          0.6774996   0.47036971\n",
      "   0.42000466  0.55533786  0.71865539  0.48889455]\n",
      " [ 0.67358559  0.70986885  0.73225125  0.6774996   1.          0.88299374\n",
      "   0.88784768  0.92231533  0.81594539  0.85391923]\n",
      " [ 0.40967846  0.54486396  0.5780238   0.47036971  0.88299374  1.\n",
      "   0.96352232  0.80856113  0.66558448  0.9287355 ]\n",
      " [ 0.39143222  0.47515121  0.55950749  0.42000466  0.88784768  0.96352232\n",
      "   1.          0.88375295  0.63849467  0.84112165]\n",
      " [ 0.58530944  0.58407198  0.6944266   0.55533786  0.92231533  0.80856113\n",
      "   0.88375295  1.          0.68911686  0.74540754]\n",
      " [ 0.72046509  0.80967315  0.7342345   0.71865539  0.81594539  0.66558448\n",
      "   0.63849467  0.68911686  1.          0.77420598]\n",
      " [ 0.44893082  0.64998438  0.60199015  0.48889455  0.85391923  0.9287355\n",
      "   0.84112165  0.74540754  0.77420598  1.        ]]\n"
     ]
    },
    {
     "name": "stderr",
     "output_type": "stream",
     "text": [
      "C:\\Users\\owner\\Anaconda\\lib\\site-packages\\matplotlib\\collections.py:571: FutureWarning: elementwise comparison failed; returning scalar instead, but in the future will perform elementwise comparison\n",
      "  if self._edgecolors == str('face'):\n"
     ]
    },
    {
     "data": {
      "image/png": "[encoded data removed]",
      "text/plain": [
       "<matplotlib.figure.Figure at 0x942af28>"
      ]
     },
     "metadata": {},
     "output_type": "display_data"
    },
    {
     "data": {
      "text/plain": [
       "<matplotlib.colorbar.Colorbar instance at 0x0000000009157948>"
      ]
     },
     "execution_count": 17,
     "metadata": {},
     "output_type": "execute_result"
    },
    {
     "data": {
      "image/png": "[encoded data removed]",
      "text/plain": [
       "<matplotlib.figure.Figure at 0xb192c50>"
      ]
     },
     "metadata": {},
     "output_type": "display_data"
    }
   ],
   "source": [
    "# np.cov - np.corrcoef - scipy.corrcoef - np.linalg.inv\n",
    "\n",
    "# Correlation matrix check. Using uniform random numbers and computing the correlation, we should fine that \n",
    "# there is very small correlation, and that it approaches 0 as the vector length tends to a large N.\n",
    "# This is what is found in the below test. \n",
    "\n",
    "# GRID = [[] for x in xrange(5)]\n",
    "# for q in range(5):\n",
    "#     for j in range(0,50):\n",
    "#         GRID[q].append(rn.uniform(1,10))\n",
    "# print np.corrcoef(GRID)\n",
    "\n",
    "\n",
    "# Segmentation variable are defined here. A lower and upper segmentation are defined here and the for-loop iterates through\n",
    "# the multi-channel list and takes the desired values and allocates them to the SEG_DATA. \n",
    "\n",
    "# MIN = 0 # Segmentation start point in current channel\n",
    "# MAX = 20 # Segmentation end point in current channel\n",
    "# RANGE = MAX - MIN\n",
    "# CH_S = 10 # Beginning channel to be iterated over. \n",
    "# CH_E = 20 # End channel to be iterated over\n",
    "# CH_T = CH_E - CH_S\n",
    "# count = 0 # start value of counter\n",
    "# SEG_DATA = [[] for x in range(CH_T)]\n",
    "# LENGTH = len(SEG_DATA)\n",
    "\n",
    "# for x in range(LENGTH):\n",
    "#     for y in range(LENGTH):\n",
    "#         SEG_DATA[x].append(multi_channel[x][y])\n",
    "\n",
    "# print multi_channelex1\n",
    "# print multi_channelex3\n",
    "\n",
    "# SEG_EX1 = [[] for x in range(0,10)]\n",
    "# SEG_EX3 = [[] for x in range(0,10)]\n",
    "\n",
    "# count = 0\n",
    "# for i in range(len(SEG_EX1)):\n",
    "#     for j in range(count*10,(10+count*10)):\n",
    "#         SEG_EX1[i].append(multi_channelex1[i][])\n",
    "\n",
    "# COR = np.corrcoef(multi_channel)\n",
    "# COV = np.cov(multi_channel)\n",
    "# INV = np.linalg.inv(COR)\n",
    "\n",
    "COR1 = np.corrcoef(multi_channelex1)\n",
    "COR3 = np.corrcoef(multi_channelex3)\n",
    "# print COR3\n",
    "# print \n",
    "# print COR1\n",
    "# count = 0\n",
    "# ITER = 4\n",
    "# cov = [[] for x in xrange(5)]\n",
    "\n",
    "# for x in range(ITER):\n",
    "#     for y in range(5):\n",
    "#         for z in range(count,count+20):\n",
    "#             cov[y].append(multi_channel[y][z])\n",
    "#     count = count + 20\n",
    "#     COR = np.corrcoef(cov)\n",
    "#     INV = np.linalg.inv(COR)\n",
    "#     plasma = plt.get_cmap('hot')\n",
    "#     cmap2 = mpl.colors.LinearSegmentedColormap.from_list('my_colormap', ['blue','red','black'], 256)\n",
    "#     img2 = plt.imshow(INV,interpolation='nearest', cmap = plasma)\n",
    "#     plt.colorbar(img2,cmap=cmap2)\n",
    "#     plt.show()\n",
    "#     cov = [[] for x in xrange(5)]\n",
    "\n",
    "        \n",
    "\n",
    "# Plot of correlation coefficeint map\n",
    "plasma = plt.get_cmap('hot')\n",
    "cmap2 = mpl.colors.LinearSegmentedColormap.from_list('my_colormap', ['blue','red','black'], 256)\n",
    "img2 = plt.imshow(COR1,interpolation='nearest', cmap = plasma)#origin='lower'\n",
    "plt.colorbar(img2,cmap=cmap2)\n",
    "plt.show()\n",
    "plasma = plt.get_cmap('hot')\n",
    "cmap2 = mpl.colors.LinearSegmentedColormap.from_list('my_colormap', ['blue','red','black'], 256)\n",
    "img2 = plt.imshow(COR3,interpolation='nearest', cmap = plasma)#origin='lower'\n",
    "plt.colorbar(img2,cmap=cmap2)"
   ]
  },
  {
   "cell_type": "code",
   "execution_count": 97,
   "metadata": {
    "collapsed": false
   },
   "outputs": [
    {
     "name": "stdout",
     "output_type": "stream",
     "text": [
      "50\n"
     ]
    },
    {
     "data": {
      "image/png": "[encoded data removed]",
      "text/plain": [
       "<matplotlib.figure.Figure at 0x9543f98>"
      ]
     },
     "metadata": {},
     "output_type": "display_data"
    },
    {
     "data": {
      "text/plain": [
       "<matplotlib.colorbar.Colorbar instance at 0x000000000F021BC8>"
      ]
     },
     "execution_count": 97,
     "metadata": {},
     "output_type": "execute_result"
    },
    {
     "data": {
      "image/png": "[encoded data removed]",
      "text/plain": [
       "<matplotlib.figure.Figure at 0xeb822b0>"
      ]
     },
     "metadata": {},
     "output_type": "display_data"
    }
   ],
   "source": [
    "X_matrix = []\n",
    "X_E = []\n",
    "Q = []\n",
    "XX = []\n",
    "normX = []\n",
    "\n",
    "QQQ = np.corrcoef(multi_channel)\n",
    "\n",
    "N = len(multi_channel)\n",
    "\n",
    "for k in range(0,N):\n",
    "     X_matrix.append(1)\n",
    "\n",
    "for c in range(0,10): # Number of iterations\n",
    "    for i in range(0,N): # Multiply the elements of A with the vector X\n",
    "        B = QQQ[i]/10**(-11)  # B = row 'i' of Matrix A\n",
    "        \n",
    "        for j in range(len(B)): # Iterate throught the elements in B and X and multiply\n",
    "            Q.append(B[j]*X_matrix[j]) # Append to Q-count array\n",
    "        X_E.append(sum(Q))      # Sum the Q values, to create element 'i' of new x-vector\n",
    "        Q = []                  # Clear Q array for next iteration\n",
    "   \n",
    "    X_matrix = X_E\n",
    "    X_E = []\n",
    "    normX =[]\n",
    "    for o in range(len(X_matrix)):\n",
    "        normX.append((1.0*X_matrix[o])/(max(X_matrix)))\n",
    "    X_matrix = normX\n",
    "print len(normX)\n",
    "AAA = []\n",
    "for i in range(50):\n",
    "    AAA.append(abs(X_matrix[i]))\n",
    "plt.plot(AAA)\n",
    "plt.show()\n",
    "\n",
    "# Plot of correlation coefficeint map\n",
    "plasma = plt.get_cmap('hot')\n",
    "cmap2 = mpl.colors.LinearSegmentedColormap.from_list('my_colormap', ['blue','red','black'], 256)\n",
    "img2 = plt.imshow(QQQ,interpolation='nearest', cmap = plasma)#origin='lower'\n",
    "plt.colorbar(img2,cmap=cmap2)"
   ]
  },
  {
   "cell_type": "code",
   "execution_count": null,
   "metadata": {
    "collapsed": true
   },
   "outputs": [],
   "source": []
  }
 ],
 "metadata": {
  "kernelspec": {
   "display_name": "Python 2",
   "language": "python",
   "name": "python2"
  },
  "language_info": {
   "codemirror_mode": {
    "name": "ipython",
    "version": 2
   },
   "file_extension": ".py",
   "mimetype": "text/x-python",
   "name": "python",
   "nbconvert_exporter": "python",
   "pygments_lexer": "ipython2",
   "version": "2.7.12"
  }
 },
 "nbformat": 4,
 "nbformat_minor": 0
}
