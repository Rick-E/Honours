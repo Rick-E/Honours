{
 "cells": [
  {
   "cell_type": "code",
   "execution_count": 1,
   "metadata": {
    "collapsed": false
   },
   "outputs": [],
   "source": [
    "%matplotlib inline\n",
    "from matplotlib import pyplot as plt\n",
    "import matplotlib as mpl\n",
    "import math\n",
    "import numpy as np\n",
    "import networkx as nx\n",
    "import random as rn\n",
    "import scipy\n",
    "import igraph\n",
    "from matplotlib import colors\n",
    "import scipy.io as sio"
   ]
  },
  {
   "cell_type": "markdown",
   "metadata": {},
   "source": [
    "# Data Pipeline for MEG/EEG Functional Brain Networks"
   ]
  },
  {
   "cell_type": "markdown",
   "metadata": {},
   "source": [
    "The first component of the data pipeline is to read the file into Python from Matlab. The MEG/EEG.fif file is arranged in Matlab is such a way that it saves the data as a large multidimensional array. The data is then saved in Matlab as a .mat file which can then be called into Python in the following manner:"
   ]
  },
  {
   "cell_type": "markdown",
   "metadata": {},
   "source": [
    "### 1. Read in Data from Matlab and plot single/multi-channel time series"
   ]
  },
  {
   "cell_type": "code",
   "execution_count": 88,
   "metadata": {
    "collapsed": false
   },
   "outputs": [
    {
     "name": "stdout",
     "output_type": "stream",
     "text": [
      "-1.44697570694e-11\n"
     ]
    }
   ],
   "source": [
    "MEG_DICT = sio.loadmat('ans.mat') # MEG dictionary saved in Matlab - in this case it is closed eye resting state.\n",
    "MEG_DATA = MEG_DICT.items() # Accesses the dictionary elements\n",
    "single_channel = []\n",
    "multi_channel = []\n",
    "\n",
    "# The data is read in as a large dictionary of lists. It can be accessed using the appropriate indexes\n",
    "# Individual channels (sensor - time series) or data points can be accessed with the below indexing calls\n",
    "# [header][row list][row][entry in row] - must be as shown [1][1][X][Y] \n",
    "# 1 is the dictionary key with values that contain all the data.\n",
    "# 1 is the list of data channels in rows - X is the chosen row and Y is the data point in that row.\n",
    "\n",
    "# access single channel and all data Y in time series X\n",
    "single_channel.extend(MEG_DATA[1][1][0][range(0,1000)])\n",
    "\n",
    "# Access multiple channels and select data points in loop\n",
    "for i in range(0,50):\n",
    "    multi_channel.append(MEG_DATA[1][1][i][range(1,50)])\n",
    "\n",
    "# Example plots of the time series\n",
    "# Single channel plot\n",
    "# plt.plot(single_channel)\n",
    "# plt.show()\n",
    "\n",
    "# Multi-channel plot\n",
    "# K = len(multi_channel)\n",
    "# for j in range(0,K):\n",
    "#     plt.plot(multi_channel[j])\n",
    "\n",
    "print multi_channel[0][0]"
   ]
  },
  {
   "cell_type": "markdown",
   "metadata": {
    "collapsed": true
   },
   "source": [
    "### 2. SOURCE LOCALIZATION AND BEAMFORMING TO GO HERE"
   ]
  },
  {
   "cell_type": "code",
   "execution_count": null,
   "metadata": {
    "collapsed": true
   },
   "outputs": [],
   "source": [
    "H_t = multi_channel"
   ]
  },
  {
   "cell_type": "markdown",
   "metadata": {},
   "source": [
    "### 3. Time series segmentation for functional connectivity (defining the edges)\n",
    "Here we segment each time series into optimal discreet lengths ready for correlation and inverse covariance estimates"
   ]
  },
  {
   "cell_type": "code",
   "execution_count": 89,
   "metadata": {
    "collapsed": false
   },
   "outputs": [],
   "source": [
    "# np.cov - np.corrcoef - scipy.corrcoef - np.linalg.inv\n",
    "\n",
    "# Correlation matrix check. Using uniform random numbers and computing the correlation, we should fine that \n",
    "# there is very small correlation, and that it approaches 0 as the vector length tends to a large N.\n",
    "# This is what is found in the below test. \n",
    "\n",
    "# GRID = [[] for x in xrange(5)]\n",
    "# for q in range(5):\n",
    "#     for j in range(0,50):\n",
    "#         GRID[q].append(rn.uniform(1,10))\n",
    "# print np.corrcoef(GRID)\n",
    "\n",
    "\n",
    "# Segmentation variable are defined here. A lower and upper segmentation are defined here and the for-loop iterates through\n",
    "# the multi-channel list and takes the desired values and allocates them to the SEG_DATA. \n",
    "\n",
    "MIN = 0 # Segmentation start point in current channel\n",
    "MAX = 20 # Segmentation end point in current channel\n",
    "RANGE = MAX - MIN\n",
    "CH_S = 10 # Beginning channel to be iterated over. \n",
    "CH_E = 20 # End channel to be iterated over\n",
    "CH_T = CH_E - CH_S\n",
    "count = 0 # start value of counter\n",
    "SEG_DATA = [[] for x in range(CH_T)]\n",
    "LENGTH = len(SEG_DATA)\n",
    "\n",
    "\n",
    "for x in range(LENGTH):\n",
    "    for y in range(LENGTH):\n",
    "        SEG_DATA[x].append(multi_channel[x][y])\n",
    "\n",
    "\n",
    "# COR = np.corrcoef(multi_channel)\n",
    "# COV = np.cov(multi_channel)\n",
    "# INV = np.linalg.inv(COR)\n",
    "\n",
    "# count = 0\n",
    "# ITER = 4\n",
    "# cov = [[] for x in xrange(5)]\n",
    "\n",
    "# for x in range(ITER):\n",
    "#     for y in range(5):\n",
    "#         for z in range(count,count+20):\n",
    "#             cov[y].append(multi_channel[y][z])\n",
    "#     count = count + 20\n",
    "#     COR = np.corrcoef(cov)\n",
    "#     INV = np.linalg.inv(COR)\n",
    "#     plasma = plt.get_cmap('hot')\n",
    "#     cmap2 = mpl.colors.LinearSegmentedColormap.from_list('my_colormap', ['blue','red','black'], 256)\n",
    "#     img2 = plt.imshow(INV,interpolation='nearest', cmap = plasma)\n",
    "#     plt.colorbar(img2,cmap=cmap2)\n",
    "#     plt.show()\n",
    "#     cov = [[] for x in xrange(5)]\n",
    "\n",
    "        \n",
    "\n",
    "# Plot of correlation coefficeint map\n",
    "# plasma = plt.get_cmap('hot')\n",
    "# cmap2 = mpl.colors.LinearSegmentedColormap.from_list('my_colormap', ['blue','red','black'], 256)\n",
    "# img2 = plt.imshow(COR,interpolation='nearest', cmap = plasma)#origin='lower'\n",
    "# plt.colorbar(img2,cmap=cmap2)"
   ]
  },
  {
   "cell_type": "code",
   "execution_count": 97,
   "metadata": {
    "collapsed": false
   },
   "outputs": [
    {
     "name": "stdout",
     "output_type": "stream",
     "text": [
      "50\n"
     ]
    },
    {
     "data": {
      "image/png": "[encoded data removed]",
      "text/plain": [
       "<matplotlib.figure.Figure at 0x9543f98>"
      ]
     },
     "metadata": {},
     "output_type": "display_data"
    },
    {
     "data": {
      "text/plain": [
       "<matplotlib.colorbar.Colorbar instance at 0x000000000F021BC8>"
      ]
     },
     "execution_count": 97,
     "metadata": {},
     "output_type": "execute_result"
    },
    {
     "data": {
      "image/png": "[encoded data removed]",
      "text/plain": [
       "<matplotlib.figure.Figure at 0xeb822b0>"
      ]
     },
     "metadata": {},
     "output_type": "display_data"
    }
   ],
   "source": [
    "X_matrix = []\n",
    "X_E = []\n",
    "Q = []\n",
    "XX = []\n",
    "normX = []\n",
    "\n",
    "QQQ = np.corrcoef(multi_channel)\n",
    "\n",
    "N = len(multi_channel)\n",
    "\n",
    "for k in range(0,N):\n",
    "     X_matrix.append(1)\n",
    "\n",
    "for c in range(0,10): # Number of iterations\n",
    "    for i in range(0,N): # Multiply the elements of A with the vector X\n",
    "        B = QQQ[i]/10**(-11)  # B = row 'i' of Matrix A\n",
    "        \n",
    "        for j in range(len(B)): # Iterate throught the elements in B and X and multiply\n",
    "            Q.append(B[j]*X_matrix[j]) # Append to Q-count array\n",
    "        X_E.append(sum(Q))      # Sum the Q values, to create element 'i' of new x-vector\n",
    "        Q = []                  # Clear Q array for next iteration\n",
    "   \n",
    "    X_matrix = X_E\n",
    "    X_E = []\n",
    "    normX =[]\n",
    "    for o in range(len(X_matrix)):\n",
    "        normX.append((1.0*X_matrix[o])/(max(X_matrix)))\n",
    "    X_matrix = normX\n",
    "print len(normX)\n",
    "AAA = []\n",
    "for i in range(50):\n",
    "    AAA.append(abs(X_matrix[i]))\n",
    "plt.plot(AAA)\n",
    "plt.show()\n",
    "\n",
    "# Plot of correlation coefficeint map\n",
    "plasma = plt.get_cmap('hot')\n",
    "cmap2 = mpl.colors.LinearSegmentedColormap.from_list('my_colormap', ['blue','red','black'], 256)\n",
    "img2 = plt.imshow(QQQ,interpolation='nearest', cmap = plasma)#origin='lower'\n",
    "plt.colorbar(img2,cmap=cmap2)"
   ]
  },
  {
   "cell_type": "code",
   "execution_count": null,
   "metadata": {
    "collapsed": true
   },
   "outputs": [],
   "source": []
  }
 ],
 "metadata": {
  "kernelspec": {
   "display_name": "Python 2",
   "language": "python",
   "name": "python2"
  },
  "language_info": {
   "codemirror_mode": {
    "name": "ipython",
    "version": 2
   },
   "file_extension": ".py",
   "mimetype": "text/x-python",
   "name": "python",
   "nbconvert_exporter": "python",
   "pygments_lexer": "ipython2",
   "version": "2.7.12"
  }
 },
 "nbformat": 4,
 "nbformat_minor": 0
}
